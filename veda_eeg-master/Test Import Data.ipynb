{
 "cells": [
  {
   "cell_type": "code",
   "execution_count": 10,
   "metadata": {
    "collapsed": false
   },
   "outputs": [
    {
     "name": "stdout",
     "output_type": "stream",
     "text": [
      "Populating the interactive namespace from numpy and matplotlib\n",
      "Here is a list of the subdir in the data folder:\n",
      "\t ['/Volumes/Data/veda_eeg/RAT01']\n"
     ]
    }
   ],
   "source": [
    "import sys\n",
    "import os\n",
    "import glob\n",
    "\n",
    "#pip installables\n",
    "\n",
    "import matplotlib.patches as patches\n",
    "\n",
    "import nitime.algorithms as tsa\n",
    "from nitime.viz import plot_spectral_estimate\n",
    "import nitime.analysis as nitime_analyses\n",
    "from nitime.timeseries import TimeSeries\n",
    "\n",
    "from veda_eeg import sessions, io\n",
    "from veda_eeg.io import io_veda as iov\n",
    "\n",
    "#my lib\n",
    "from utils import lib_files\n",
    "\n",
    "%pylab qt\n",
    "\n",
    "\n",
    "data_path = '/Volumes/Data/veda_eeg/'\n",
    "msg = 'Here is a list of the subdir in the data folder:\\n\\t {}'.format(glob.glob(data_path+'*'))\n",
    "print(msg)"
   ]
  },
  {
   "cell_type": "code",
   "execution_count": 3,
   "metadata": {
    "collapsed": false,
    "scrolled": true
   },
   "outputs": [
    {
     "name": "stdout",
     "output_type": "stream",
     "text": [
      "Loading continuous data from /Volumes/Data/veda_eeg/RAT01/RAT01_2016-06-09_15-23-22_MPH_Cumul_0.032-1.00_0.5_10_10_iv/100_AUX1.continuous\n"
     ]
    },
    {
     "name": "stderr",
     "output_type": "stream",
     "text": [
      "veda_eeg/io/OpenEphys.py:129: VisibleDeprecationWarning: using a non-integer number instead of an integer will result in an error in the future\n",
      "  samples = np.zeros(MAX_NUMBER_OF_CONTINUOUS_SAMPLES, dtype)\n",
      "veda_eeg/io/OpenEphys.py:130: VisibleDeprecationWarning: using a non-integer number instead of an integer will result in an error in the future\n",
      "  timestamps = np.zeros(MAX_NUMBER_OF_RECORDS)\n",
      "veda_eeg/io/OpenEphys.py:131: VisibleDeprecationWarning: using a non-integer number instead of an integer will result in an error in the future\n",
      "  recordingNumbers = np.zeros(MAX_NUMBER_OF_RECORDS)\n"
     ]
    },
    {
     "name": "stdout",
     "output_type": "stream",
     "text": [
      "Loading continuous data from /Volumes/Data/veda_eeg/RAT01/RAT01_2016-06-09_15-23-22_MPH_Cumul_0.032-1.00_0.5_10_10_iv/100_AUX2.continuous\n",
      "Loading continuous data from /Volumes/Data/veda_eeg/RAT01/RAT01_2016-06-09_15-23-22_MPH_Cumul_0.032-1.00_0.5_10_10_iv/100_AUX3.continuous\n",
      "Loading continuous data from /Volumes/Data/veda_eeg/RAT01/RAT01_2016-06-09_15-23-22_MPH_Cumul_0.032-1.00_0.5_10_10_iv/100_CH1.continuous\n",
      "Loading continuous data from /Volumes/Data/veda_eeg/RAT01/RAT01_2016-06-09_15-23-22_MPH_Cumul_0.032-1.00_0.5_10_10_iv/100_CH10.continuous\n",
      "Loading continuous data from /Volumes/Data/veda_eeg/RAT01/RAT01_2016-06-09_15-23-22_MPH_Cumul_0.032-1.00_0.5_10_10_iv/100_CH11.continuous\n",
      "Loading continuous data from /Volumes/Data/veda_eeg/RAT01/RAT01_2016-06-09_15-23-22_MPH_Cumul_0.032-1.00_0.5_10_10_iv/100_CH12.continuous\n",
      "Loading continuous data from /Volumes/Data/veda_eeg/RAT01/RAT01_2016-06-09_15-23-22_MPH_Cumul_0.032-1.00_0.5_10_10_iv/100_CH13.continuous\n",
      "Loading continuous data from /Volumes/Data/veda_eeg/RAT01/RAT01_2016-06-09_15-23-22_MPH_Cumul_0.032-1.00_0.5_10_10_iv/100_CH14.continuous\n",
      "Loading continuous data from /Volumes/Data/veda_eeg/RAT01/RAT01_2016-06-09_15-23-22_MPH_Cumul_0.032-1.00_0.5_10_10_iv/100_CH15.continuous\n",
      "Loading continuous data from /Volumes/Data/veda_eeg/RAT01/RAT01_2016-06-09_15-23-22_MPH_Cumul_0.032-1.00_0.5_10_10_iv/100_CH16.continuous\n",
      "Loading continuous data from /Volumes/Data/veda_eeg/RAT01/RAT01_2016-06-09_15-23-22_MPH_Cumul_0.032-1.00_0.5_10_10_iv/100_CH17.continuous\n",
      "Loading continuous data from /Volumes/Data/veda_eeg/RAT01/RAT01_2016-06-09_15-23-22_MPH_Cumul_0.032-1.00_0.5_10_10_iv/100_CH18.continuous\n",
      "Loading continuous data from /Volumes/Data/veda_eeg/RAT01/RAT01_2016-06-09_15-23-22_MPH_Cumul_0.032-1.00_0.5_10_10_iv/100_CH19.continuous\n",
      "Loading continuous data from /Volumes/Data/veda_eeg/RAT01/RAT01_2016-06-09_15-23-22_MPH_Cumul_0.032-1.00_0.5_10_10_iv/100_CH2.continuous\n",
      "Loading continuous data from /Volumes/Data/veda_eeg/RAT01/RAT01_2016-06-09_15-23-22_MPH_Cumul_0.032-1.00_0.5_10_10_iv/100_CH20.continuous\n",
      "Loading continuous data from /Volumes/Data/veda_eeg/RAT01/RAT01_2016-06-09_15-23-22_MPH_Cumul_0.032-1.00_0.5_10_10_iv/100_CH21.continuous\n",
      "Loading continuous data from /Volumes/Data/veda_eeg/RAT01/RAT01_2016-06-09_15-23-22_MPH_Cumul_0.032-1.00_0.5_10_10_iv/100_CH22.continuous\n",
      "Loading continuous data from /Volumes/Data/veda_eeg/RAT01/RAT01_2016-06-09_15-23-22_MPH_Cumul_0.032-1.00_0.5_10_10_iv/100_CH23.continuous\n",
      "Loading continuous data from /Volumes/Data/veda_eeg/RAT01/RAT01_2016-06-09_15-23-22_MPH_Cumul_0.032-1.00_0.5_10_10_iv/100_CH24.continuous\n",
      "Loading continuous data from /Volumes/Data/veda_eeg/RAT01/RAT01_2016-06-09_15-23-22_MPH_Cumul_0.032-1.00_0.5_10_10_iv/100_CH26.continuous\n",
      "Loading continuous data from /Volumes/Data/veda_eeg/RAT01/RAT01_2016-06-09_15-23-22_MPH_Cumul_0.032-1.00_0.5_10_10_iv/100_CH28.continuous\n",
      "Loading continuous data from /Volumes/Data/veda_eeg/RAT01/RAT01_2016-06-09_15-23-22_MPH_Cumul_0.032-1.00_0.5_10_10_iv/100_CH29.continuous\n",
      "Loading continuous data from /Volumes/Data/veda_eeg/RAT01/RAT01_2016-06-09_15-23-22_MPH_Cumul_0.032-1.00_0.5_10_10_iv/100_CH3.continuous\n",
      "Loading continuous data from /Volumes/Data/veda_eeg/RAT01/RAT01_2016-06-09_15-23-22_MPH_Cumul_0.032-1.00_0.5_10_10_iv/100_CH30.continuous\n",
      "Loading continuous data from /Volumes/Data/veda_eeg/RAT01/RAT01_2016-06-09_15-23-22_MPH_Cumul_0.032-1.00_0.5_10_10_iv/100_CH32.continuous\n",
      "Loading continuous data from /Volumes/Data/veda_eeg/RAT01/RAT01_2016-06-09_15-23-22_MPH_Cumul_0.032-1.00_0.5_10_10_iv/100_CH5.continuous\n",
      "Loading continuous data from /Volumes/Data/veda_eeg/RAT01/RAT01_2016-06-09_15-23-22_MPH_Cumul_0.032-1.00_0.5_10_10_iv/100_CH7.continuous\n",
      "Loading continuous data from /Volumes/Data/veda_eeg/RAT01/RAT01_2016-06-09_15-23-22_MPH_Cumul_0.032-1.00_0.5_10_10_iv/100_CH9.continuous\n",
      "Loading continuous data from /Volumes/Data/veda_eeg/RAT01/RAT01_2016-06-09_15-23-22_MPH_Cumul_0.032-1.00_0.5_10_10_iv/100_FRO_L.continuous\n",
      "Loading continuous data from /Volumes/Data/veda_eeg/RAT01/RAT01_2016-06-09_15-23-22_MPH_Cumul_0.032-1.00_0.5_10_10_iv/100_FRO_R.continuous\n",
      "Loading continuous data from /Volumes/Data/veda_eeg/RAT01/RAT01_2016-06-09_15-23-22_MPH_Cumul_0.032-1.00_0.5_10_10_iv/100_OCC_L.continuous\n",
      "Loading continuous data from /Volumes/Data/veda_eeg/RAT01/RAT01_2016-06-09_15-23-22_MPH_Cumul_0.032-1.00_0.5_10_10_iv/100_OCC_R.continuous\n",
      "Loading continuous data from /Volumes/Data/veda_eeg/RAT01/RAT01_2016-06-09_15-23-22_MPH_Cumul_0.032-1.00_0.5_10_10_iv/100_PAR_L.continuous\n",
      "Loading continuous data from /Volumes/Data/veda_eeg/RAT01/RAT01_2016-06-09_15-23-22_MPH_Cumul_0.032-1.00_0.5_10_10_iv/100_PAR_R.continuous\n",
      "Avg. Load Time: 0.329637970243 sec\n",
      "Total Load Time: 11.5374219418 sec\n"
     ]
    }
   ],
   "source": [
    "data = io.OpenEphys.loadFolder('/Volumes/Data/veda_eeg/RAT01/RAT01_2016-06-09_15-23-22_MPH_Cumul_0.032-1.00_0.5_10_10_iv/')"
   ]
  },
  {
   "cell_type": "code",
   "execution_count": 71,
   "metadata": {
    "collapsed": false
   },
   "outputs": [
    {
     "name": "stdout",
     "output_type": "stream",
     "text": [
      "\u001b[1mExtracting only ['100_CH8', '100_CH6', '100_CH4', '100_CH2', '100_CH25', '100_CH27', '100_CH29', '100_CH31', '100_CHPAR_R', '100_CHOCC_R', '100_CHFRO_R', '100_CHPAR_L', '100_CHOCC_L', '100_CHFRO_L', '200_CH8', '200_CH6', '200_CH4', '200_CH2', '200_CH25', '200_CH27', '200_CH29', '200_CH31', '200_CHPAR_R', '200_CHOCC_R', '200_CHFRO_R', '200_CHPAR_L', '200_CHOCC_L', '200_CHFRO_L', '300_CH8', '300_CH6', '300_CH4', '300_CH2', '300_CH25', '300_CH27', '300_CH29', '300_CH31', '300_CHPAR_R', '300_CHOCC_R', '300_CHFRO_R', '300_CHPAR_L', '300_CHOCC_L', '300_CHFRO_L', '400_CH8', '400_CH6', '400_CH4', '400_CH2', '400_CH25', '400_CH27', '400_CH29', '400_CH31', '400_CHPAR_R', '400_CHOCC_R', '400_CHFRO_R', '400_CHPAR_L', '400_CHOCC_L', '400_CHFRO_L', '100_AUX1', '100_AUX2', '100_AUX3', '200_AUX1', '200_AUX2', '200_AUX3', '300_AUX1', '300_AUX2', '300_AUX3', '400_AUX1', '400_AUX2', '400_AUX3'] chip_channels\u001b[33m-WARNING:io_veda:line 344-import_session_openephys()\u001b[0m\n",
      "Avg. Load Time: 0.265232597079 sec\n",
      "Total Load Time: 9.28323507309 sec\n"
     ]
    }
   ],
   "source": [
    "data = iov.import_session('/Volumes/Data/veda_eeg/RAT01/RAT01_2016-06-09_15-23-22_MPH_Cumul_0.032-1.00_0.5_10_10_iv/')"
   ]
  },
  {
   "cell_type": "code",
   "execution_count": 72,
   "metadata": {
    "collapsed": false
   },
   "outputs": [
    {
     "data": {
      "text/plain": [
       "{'aux_header': [{' date_created': \"'9-Jun-2016 152322'\",\n",
       "   ' header_bytes': '1024',\n",
       "   ' version': '0.4',\n",
       "   'bitVolts': '3.74e-005',\n",
       "   'blockLength': '1024',\n",
       "   'bufferSize': '1024',\n",
       "   'channel': \"'AUX2'\",\n",
       "   'channelType': \"'Continuous'\",\n",
       "   'description': \"'each record contains one 64-bit timestamp, one 16-bit sample count (N), 1 uint16 recordingNumber, N 16-bit samples, and one 10-byte record marker (0 1 2 3 4 5 6 7 8 255)'\",\n",
       "   'format': \"'Open Ephys Data Format'\",\n",
       "   'sampleRate': '2000',\n",
       "   'sampling_freq': 2000,\n",
       "   'sig_units': 'V'},\n",
       "  {' date_created': \"'9-Jun-2016 152322'\",\n",
       "   ' header_bytes': '1024',\n",
       "   ' version': '0.4',\n",
       "   'bitVolts': '3.74e-005',\n",
       "   'blockLength': '1024',\n",
       "   'bufferSize': '1024',\n",
       "   'channel': \"'AUX3'\",\n",
       "   'channelType': \"'Continuous'\",\n",
       "   'description': \"'each record contains one 64-bit timestamp, one 16-bit sample count (N), 1 uint16 recordingNumber, N 16-bit samples, and one 10-byte record marker (0 1 2 3 4 5 6 7 8 255)'\",\n",
       "   'format': \"'Open Ephys Data Format'\",\n",
       "   'sampleRate': '2000',\n",
       "   'sampling_freq': 2000,\n",
       "   'sig_units': 'V'},\n",
       "  {' date_created': \"'9-Jun-2016 152322'\",\n",
       "   ' header_bytes': '1024',\n",
       "   ' version': '0.4',\n",
       "   'bitVolts': '3.74e-005',\n",
       "   'blockLength': '1024',\n",
       "   'bufferSize': '1024',\n",
       "   'channel': \"'AUX1'\",\n",
       "   'channelType': \"'Continuous'\",\n",
       "   'description': \"'each record contains one 64-bit timestamp, one 16-bit sample count (N), 1 uint16 recordingNumber, N 16-bit samples, and one 10-byte record marker (0 1 2 3 4 5 6 7 8 255)'\",\n",
       "   'format': \"'Open Ephys Data Format'\",\n",
       "   'sampleRate': '2000',\n",
       "   'sampling_freq': 2000,\n",
       "   'sig_units': 'V'}],\n",
       " 'aux_series': array([[  6.74621948e-06,   6.74621948e-06,   6.74621948e-06, ...,\n",
       "           1.17565778e-05,   1.17565778e-05,   1.17565778e-05],\n",
       "        [  2.44685087e-05,   2.44685087e-05,   2.44685087e-05, ...,\n",
       "           2.66799482e-05,   2.66799482e-05,   2.66799482e-05],\n",
       "        [  1.88175183e-05,   1.88175183e-05,   1.88175183e-05, ...,\n",
       "           9.79551628e-06,   9.79551628e-06,   9.79551628e-06]]),\n",
       " 'meta_data': {'baseline': '10',\n",
       "  'd0': '0.032',\n",
       "  'd1': '3.2',\n",
       "  'date': '2016-06-09',\n",
       "  'doseinterval': '0.5',\n",
       "  'drug': 'MPH',\n",
       "  'experiment': 'Cumul',\n",
       "  'original_data_format': 'OPEN_EPHYS',\n",
       "  'route': 'iv',\n",
       "  'subject': 'RAT01',\n",
       "  'time': '15-23-22',\n",
       "  'timeinterval': '10'},\n",
       " 'voltage_header': [{' date_created': \"'9-Jun-2016 152322'\",\n",
       "   ' header_bytes': '1024',\n",
       "   ' version': '0.4',\n",
       "   'bitVolts': '0.195',\n",
       "   'blockLength': '1024',\n",
       "   'bufferSize': '1024',\n",
       "   'channel': \"'CH2'\",\n",
       "   'channelType': \"'Continuous'\",\n",
       "   'description': \"'each record contains one 64-bit timestamp, one 16-bit sample count (N), 1 uint16 recordingNumber, N 16-bit samples, and one 10-byte record marker (0 1 2 3 4 5 6 7 8 255)'\",\n",
       "   'format': \"'Open Ephys Data Format'\",\n",
       "   'name': \"'CH2'\",\n",
       "   'sampleRate': '2000',\n",
       "   'sampling_freq': 2000,\n",
       "   'sig_units': 'uV'},\n",
       "  {' date_created': \"'9-Jun-2016 152322'\",\n",
       "   ' header_bytes': '1024',\n",
       "   ' version': '0.4',\n",
       "   'bitVolts': '0.195',\n",
       "   'blockLength': '1024',\n",
       "   'bufferSize': '1024',\n",
       "   'channel': \"'CH29'\",\n",
       "   'channelType': \"'Continuous'\",\n",
       "   'description': \"'each record contains one 64-bit timestamp, one 16-bit sample count (N), 1 uint16 recordingNumber, N 16-bit samples, and one 10-byte record marker (0 1 2 3 4 5 6 7 8 255)'\",\n",
       "   'format': \"'Open Ephys Data Format'\",\n",
       "   'name': \"'CH29'\",\n",
       "   'sampleRate': '2000',\n",
       "   'sampling_freq': 2000,\n",
       "   'sig_units': 'uV'}],\n",
       " 'voltage_series': array([[ -96.35535 ,  -95.0625  ,  -95.3667  , ...,  305.606925,\n",
       "          300.47355 ,  298.001925],\n",
       "        [ -37.226475,  -35.8956  ,  -35.21115 , ...,  866.89395 ,\n",
       "          870.658425,  880.27875 ]])}"
      ]
     },
     "execution_count": 72,
     "metadata": {},
     "output_type": "execute_result"
    }
   ],
   "source": [
    "data"
   ]
  },
  {
   "cell_type": "code",
   "execution_count": 54,
   "metadata": {
    "collapsed": false
   },
   "outputs": [
    {
     "data": {
      "text/plain": [
       "[{' date_created': \"'9-Jun-2016 152322'\",\n",
       "  ' header_bytes': '1024',\n",
       "  ' version': '0.4',\n",
       "  'bitVolts': '0.195',\n",
       "  'blockLength': '1024',\n",
       "  'bufferSize': '1024',\n",
       "  'channel': \"'PAR_R'\",\n",
       "  'channelType': \"'Continuous'\",\n",
       "  'description': \"'each record contains one 64-bit timestamp, one 16-bit sample count (N), 1 uint16 recordingNumber, N 16-bit samples, and one 10-byte record marker (0 1 2 3 4 5 6 7 8 255)'\",\n",
       "  'format': \"'Open Ephys Data Format'\",\n",
       "  'sampleRate': '2000'},\n",
       " {' date_created': \"'9-Jun-2016 152322'\",\n",
       "  ' header_bytes': '1024',\n",
       "  ' version': '0.4',\n",
       "  'bitVolts': '0.195',\n",
       "  'blockLength': '1024',\n",
       "  'bufferSize': '1024',\n",
       "  'channel': \"'OCC_L'\",\n",
       "  'channelType': \"'Continuous'\",\n",
       "  'description': \"'each record contains one 64-bit timestamp, one 16-bit sample count (N), 1 uint16 recordingNumber, N 16-bit samples, and one 10-byte record marker (0 1 2 3 4 5 6 7 8 255)'\",\n",
       "  'format': \"'Open Ephys Data Format'\",\n",
       "  'sampleRate': '2000'},\n",
       " {' date_created': \"'9-Jun-2016 152322'\",\n",
       "  ' header_bytes': '1024',\n",
       "  ' version': '0.4',\n",
       "  'bitVolts': '0.195',\n",
       "  'blockLength': '1024',\n",
       "  'bufferSize': '1024',\n",
       "  'channel': \"'FRO_L'\",\n",
       "  'channelType': \"'Continuous'\",\n",
       "  'description': \"'each record contains one 64-bit timestamp, one 16-bit sample count (N), 1 uint16 recordingNumber, N 16-bit samples, and one 10-byte record marker (0 1 2 3 4 5 6 7 8 255)'\",\n",
       "  'format': \"'Open Ephys Data Format'\",\n",
       "  'sampleRate': '2000'},\n",
       " {' date_created': \"'9-Jun-2016 152322'\",\n",
       "  ' header_bytes': '1024',\n",
       "  ' version': '0.4',\n",
       "  'bitVolts': '0.195',\n",
       "  'blockLength': '1024',\n",
       "  'bufferSize': '1024',\n",
       "  'channel': \"'FRO_R'\",\n",
       "  'channelType': \"'Continuous'\",\n",
       "  'description': \"'each record contains one 64-bit timestamp, one 16-bit sample count (N), 1 uint16 recordingNumber, N 16-bit samples, and one 10-byte record marker (0 1 2 3 4 5 6 7 8 255)'\",\n",
       "  'format': \"'Open Ephys Data Format'\",\n",
       "  'sampleRate': '2000'},\n",
       " {' date_created': \"'9-Jun-2016 152322'\",\n",
       "  ' header_bytes': '1024',\n",
       "  ' version': '0.4',\n",
       "  'bitVolts': '0.195',\n",
       "  'blockLength': '1024',\n",
       "  'bufferSize': '1024',\n",
       "  'channel': \"'OCC_R'\",\n",
       "  'channelType': \"'Continuous'\",\n",
       "  'description': \"'each record contains one 64-bit timestamp, one 16-bit sample count (N), 1 uint16 recordingNumber, N 16-bit samples, and one 10-byte record marker (0 1 2 3 4 5 6 7 8 255)'\",\n",
       "  'format': \"'Open Ephys Data Format'\",\n",
       "  'sampleRate': '2000'},\n",
       " {' date_created': \"'9-Jun-2016 152322'\",\n",
       "  ' header_bytes': '1024',\n",
       "  ' version': '0.4',\n",
       "  'bitVolts': '0.195',\n",
       "  'blockLength': '1024',\n",
       "  'bufferSize': '1024',\n",
       "  'channel': \"'CH29'\",\n",
       "  'channelType': \"'Continuous'\",\n",
       "  'description': \"'each record contains one 64-bit timestamp, one 16-bit sample count (N), 1 uint16 recordingNumber, N 16-bit samples, and one 10-byte record marker (0 1 2 3 4 5 6 7 8 255)'\",\n",
       "  'format': \"'Open Ephys Data Format'\",\n",
       "  'sampleRate': '2000'},\n",
       " {' date_created': \"'9-Jun-2016 152322'\",\n",
       "  ' header_bytes': '1024',\n",
       "  ' version': '0.4',\n",
       "  'bitVolts': '0.195',\n",
       "  'blockLength': '1024',\n",
       "  'bufferSize': '1024',\n",
       "  'channel': \"'PAR_L'\",\n",
       "  'channelType': \"'Continuous'\",\n",
       "  'description': \"'each record contains one 64-bit timestamp, one 16-bit sample count (N), 1 uint16 recordingNumber, N 16-bit samples, and one 10-byte record marker (0 1 2 3 4 5 6 7 8 255)'\",\n",
       "  'format': \"'Open Ephys Data Format'\",\n",
       "  'sampleRate': '2000'}]"
      ]
     },
     "execution_count": 54,
     "metadata": {},
     "output_type": "execute_result"
    }
   ],
   "source": [
    "# iov.openephys_to_veda(data)\n",
    "data['voltage_header']"
   ]
  },
  {
   "cell_type": "code",
   "execution_count": null,
   "metadata": {
    "collapsed": false
   },
   "outputs": [],
   "source": [
    "#db function\n",
    "def dB(x, out=None):\n",
    "    if out is None:\n",
    "        return 10 * np.log10(x)\n",
    "    else:\n",
    "        np.log10(x, out)\n",
    "        np.multiply(out, 10, out)\n",
    "\n",
    "        \n",
    "#sample spectrum of EEG signal\n",
    "sampling_freq = int(data['100_PAR_R_2']['header']['sampleRate'])\n",
    "chan = data['100_PAR_R_2']['data']\n",
    "chan_sample = chan[:10*sampling_freq]\n",
    "chan_sample = chan_sample - chan_sample.mean()\n",
    "\n",
    "chan_sample_TS = TimeSeries(chan_sample, sampling_rate=sampling_freq)\n",
    "\n",
    "#Filtering\n",
    "F = nitime_analyses.FilterAnalyzer(chan_sample_TS, ub=50, lb=0.8)\n",
    "test_data = F.filtered_fourier.data\n",
    "#down sampling\n",
    "test_data = test_data[::10]\n",
    "sampling_freq = sampling_freq/10\n",
    "\n",
    "#using the normal periodogram\n",
    "freqs, psd = tsa.periodogram(test_data[:], Fs=sampling_freq)\n",
    "dB(psd, psd)\n",
    "plot(freqs, psd)\n",
    "\n",
    "#using welch's periodogram\n",
    "welch_freq, welch_psd = tsa.get_spectra(test_data[:], method={\n",
    "        'this_method':'welch',\n",
    "        'NFFT':512,\n",
    "        'Fs':sampling_freq} )\n",
    "dB(welch_psd, welch_psd)\n",
    "plot(welch_freq, welch_psd)\n",
    "\n",
    "#multi-tapered estimation\n",
    "f, psd_mt, nu = tsa.multi_taper_psd(\n",
    "    test_data[:], adaptive=False, jackknife=False, Fs=sampling_freq\n",
    "    )\n",
    "dB(psd_mt,psd_mt)\n",
    "Kmax = nu[0] / 2\n",
    "plot(f,psd_mt)\n",
    "\n",
    "legend(['Periodogram','Welch','Multi-Tapered'])"
   ]
  },
  {
   "cell_type": "code",
   "execution_count": null,
   "metadata": {
    "collapsed": false
   },
   "outputs": [],
   "source": [
    "plot(F.filtered_boxcar.data)\n",
    "plot(F.filtered_fourier.data)\n",
    "plot(F.iir.data)\n",
    "plot(F.fir.data)\n",
    "plot(F.data)\n",
    "\n",
    "legend(['Boxcar', 'Fourier', 'IIR', 'FIR', 'Raw'])"
   ]
  },
  {
   "cell_type": "code",
   "execution_count": null,
   "metadata": {
    "collapsed": false
   },
   "outputs": [],
   "source": [
    "#Analysis 1 Time Frequency Spectrogram\n",
    "chan_name = \"100_FRO_L\"\n",
    "sampling_freq = int(data[chan_name]['header']['sampleRate'])\n",
    "chan = data[chan_name]['data']\n",
    "\n",
    "#Filtering\n",
    "msg = 'Filtering...'\n",
    "print(msg)\n",
    "chan_ts = TimeSeries(chan, sampling_rate=sampling_freq)\n",
    "F = nitime_analyses.FilterAnalyzer(chan_ts, ub=60, lb=0.8)\n",
    "chan_ts = F.filtered_fourier.data\n",
    "msg = 'Done'\n",
    "print(msg)\n",
    "\n",
    "#Decimation\n",
    "msg = 'Decimating...'\n",
    "print(msg)\n",
    "decimation_factor = 10\n",
    "chan_ts_dec = chan_ts[::decimation_factor]\n",
    "sampling_freq_dec = sampling_freq/decimation_factor\n",
    "msg = 'Done'\n",
    "print(msg)"
   ]
  },
  {
   "cell_type": "code",
   "execution_count": null,
   "metadata": {
    "collapsed": false
   },
   "outputs": [],
   "source": [
    "font = {'family' : 'normal',\n",
    "        'weight' : 'normal',\n",
    "        'size'   : 16}\n",
    "\n",
    "matplotlib.rc('font', **font)\n",
    "figure()\n",
    "# subplot(2,1,1)\n",
    "cmap = plt.get_cmap('viridis')\n",
    "ret = specgram(chan_ts_dec, Fs=sampling_freq_dec, NFFT=512, noverlap=256, cmap=cmap )\n",
    "cla()\n",
    "hf=60\n",
    "lf=1\n",
    "cut_off = sum(ret[1]<hf)\n",
    "start_f = sum(ret[1]<lf)\n",
    "\n",
    "c = imshow(dB(ret[0][start_f:cut_off,:]), \n",
    "       cmap=cmap, \n",
    "       aspect=1.5*max(ret[2])/60/cut_off, \n",
    "       origin='lower', \n",
    "       extent=[0,max(ret[2])/60,lf,hf])\n",
    "\n",
    "xlabel('time (min)',fontsize='large')\n",
    "ylabel('Frequency (Hz)')\n",
    "fig = gcf()\n",
    "fig.colorbar(c)\n",
    "\n",
    "#injection times in minutes\n",
    "inj_times = [18,28,38,48]\n",
    "colors = ['y','g','b','k','r']\n",
    "ax = gca()\n",
    "for inj_time,color_spec in zip(inj_times,colors):\n",
    "    ax.add_patch(patches.Rectangle((inj_time,50), 10, 10, alpha=.5, color=color_spec))\n",
    "title('Chan {}'.format(chan_name))\n",
    "# subplot(2,1,2)\n",
    "# plot(arange(chan_ts_dec.size)/200./60.,chan_ts_dec)"
   ]
  },
  {
   "cell_type": "code",
   "execution_count": null,
   "metadata": {
    "collapsed": false
   },
   "outputs": [],
   "source": [
    "import plotly\n",
    "import plotly.offline as off\n",
    "import plotly.graph_objs as go\n",
    "\n",
    "plotly.offline.init_notebook_mode()"
   ]
  },
  {
   "cell_type": "code",
   "execution_count": null,
   "metadata": {
    "collapsed": false
   },
   "outputs": [],
   "source": [
    "dB(ret[0][start_f:cut_off,0:10]).shape"
   ]
  },
  {
   "cell_type": "code",
   "execution_count": null,
   "metadata": {
    "collapsed": false
   },
   "outputs": [],
   "source": [
    "ret[2]/60"
   ]
  },
  {
   "cell_type": "code",
   "execution_count": null,
   "metadata": {
    "collapsed": false
   },
   "outputs": [],
   "source": [
    "spectrogram = [{'z':dB(ret[0][start_f:cut_off]),\n",
    "                'x':ret[2]/60,\n",
    "                'y':ret[1][start_f:cut_off],\n",
    "                'colorscale':'Viridis',\n",
    "              'type':'surface',\n",
    "               }]\n",
    "\n",
    "off.iplot(spectrogram)\n",
    "# fig = go.Figure(data=spectrogram)\n",
    "# plotly.plotly.image.save_as(fig,'test.png')\n"
   ]
  },
  {
   "cell_type": "code",
   "execution_count": null,
   "metadata": {
    "collapsed": false
   },
   "outputs": [],
   "source": [
    "import plotly.plotly as py\n",
    "# Generate the figure\n",
    "\n",
    "trace = go.Bar(x=[1,2,3],y=[4,5,6])\n",
    "data = [trace]\n",
    "layout = go.Layout(title='My Plot')\n",
    "fig = go.Figure(data=data,layout=layout)\n",
    "\n",
    "# Save the figure as a png image:\n",
    "py.image.save_as(fig, 'my_plot.png')"
   ]
  },
  {
   "cell_type": "code",
   "execution_count": null,
   "metadata": {
    "collapsed": false
   },
   "outputs": [],
   "source": [
    "plotly.plotly.image.save_as(fig,'test.png')"
   ]
  },
  {
   "cell_type": "code",
   "execution_count": null,
   "metadata": {
    "collapsed": false
   },
   "outputs": [],
   "source": [
    "dB(tile(ret[0][start_f:cut_off,0:450].mean(1),(ret[0].shape[1],1)).T)/dB(tile(ret[0][start_f:cut_off,0:450].mean(1),(ret[0].shape[1],1)).T)"
   ]
  },
  {
   "cell_type": "code",
   "execution_count": null,
   "metadata": {
    "collapsed": false
   },
   "outputs": [],
   "source": [
    "dB(ret[0][start_f:cut_off,0:450].mean(1))"
   ]
  },
  {
   "cell_type": "code",
   "execution_count": null,
   "metadata": {
    "collapsed": false
   },
   "outputs": [],
   "source": [
    "#db function\n",
    "def dB(x, out=None):\n",
    "    if out is None:\n",
    "        return 10 * np.log10(x)\n",
    "    else:\n",
    "        np.log10(x, out)\n",
    "        np.multiply(out, 10, out)\n"
   ]
  },
  {
   "cell_type": "code",
   "execution_count": null,
   "metadata": {
    "collapsed": false
   },
   "outputs": [],
   "source": []
  },
  {
   "cell_type": "code",
   "execution_count": null,
   "metadata": {
    "collapsed": false
   },
   "outputs": [],
   "source": [
    "ret[1]<60"
   ]
  },
  {
   "cell_type": "code",
   "execution_count": 75,
   "metadata": {
    "collapsed": false
   },
   "outputs": [
    {
     "data": {
      "text/plain": [
       "[<matplotlib.lines.Line2D at 0x115f558d0>]"
      ]
     },
     "execution_count": 75,
     "metadata": {},
     "output_type": "execute_result"
    }
   ],
   "source": [
    "plot(data['aux_series'][::500])"
   ]
  },
  {
   "cell_type": "code",
   "execution_count": 89,
   "metadata": {
    "collapsed": false
   },
   "outputs": [
    {
     "data": {
      "text/plain": [
       "[<matplotlib.lines.Line2D at 0x1918ef650>]"
      ]
     },
     "execution_count": 89,
     "metadata": {},
     "output_type": "execute_result"
    }
   ],
   "source": [
    "plot(data['aux_series'][0][::500])\n",
    "plot(data['aux_series'][1][::500])\n",
    "plot(data['aux_series'][2][::500])"
   ]
  },
  {
   "cell_type": "code",
   "execution_count": null,
   "metadata": {
    "collapsed": true
   },
   "outputs": [],
   "source": []
  }
 ],
 "metadata": {
  "kernelspec": {
   "display_name": "Python 2",
   "language": "python",
   "name": "python2"
  },
  "language_info": {
   "codemirror_mode": {
    "name": "ipython",
    "version": 2
   },
   "file_extension": ".py",
   "mimetype": "text/x-python",
   "name": "python",
   "nbconvert_exporter": "python",
   "pygments_lexer": "ipython2",
   "version": "2.7.12"
  }
 },
 "nbformat": 4,
 "nbformat_minor": 0
}
