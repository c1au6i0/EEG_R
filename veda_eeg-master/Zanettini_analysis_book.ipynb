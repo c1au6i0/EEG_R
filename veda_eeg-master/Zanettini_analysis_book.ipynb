{
 "cells": [
  {
   "cell_type": "markdown",
   "metadata": {},
   "source": [
    "# Script for data analysis\n",
    "## the first part is just initialization\n"
   ]
  },
  {
   "cell_type": "code",
   "execution_count": 1,
   "metadata": {
    "collapsed": false
   },
   "outputs": [
    {
     "name": "stdout",
     "output_type": "stream",
     "text": [
      "Populating the interactive namespace from numpy and matplotlib\n"
     ]
    }
   ],
   "source": [
    "%pylab qt\n",
    "import itertools\n",
    "import sys\n",
    "import os\n",
    "from PyQt4 import QtCore, QtGui\n",
    "app = QtGui.QApplication(sys.argv)\n",
    "import pandas as pd\n"
   ]
  },
  {
   "cell_type": "code",
   "execution_count": 2,
   "metadata": {
    "collapsed": false
   },
   "outputs": [],
   "source": [
    "#selecting veda_path_location\n",
    "veda_path_location = str(QtGui.QFileDialog.getExistingDirectory(caption='Select python package dir'))\n",
    "sys.path.insert(0,veda_path_location)"
   ]
  },
  {
   "cell_type": "code",
   "execution_count": 3,
   "metadata": {
    "collapsed": true
   },
   "outputs": [],
   "source": [
    "#selecting data_path_location\n",
    "data_path_location = str(QtGui.QFileDialog.getExistingDirectory())\n",
    "sys.path.insert(0,veda_path_location)"
   ]
  },
  {
   "cell_type": "markdown",
   "metadata": {},
   "source": [
    "The next cell initializes the `veda_eeg` package. If this **fails** you don't have the right path set for the package  "
   ]
  },
  {
   "cell_type": "code",
   "execution_count": 2,
   "metadata": {
    "collapsed": false
   },
   "outputs": [],
   "source": [
    "data_path_location = '/Users/scaglionea/Desktop/EEG data/'\n",
    "import veda_eeg.io.io_veda as io #import the io module\n",
    "import veda_eeg.analysis.spectral as sp #spectral functions\n",
    "import veda_eeg.analysis.plots as pl #plotting utilities`\n",
    "import veda_eeg.analysis.dose_funs as dof\n",
    "#change the root folder to the location that contains the EEG data\n",
    "io.DATA_ROOT_FOLDER = data_path_location\n",
    "hnd = io.logger.handlers[1]\n",
    "hnd.setLevel('INFO')"
   ]
  },
  {
   "cell_type": "code",
   "execution_count": 5,
   "metadata": {
    "collapsed": false
   },
   "outputs": [
    {
     "name": "stdout",
     "output_type": "stream",
     "text": [
      "\u001b[34mFound 18 sessions                                                                |INFO: 2016-09-08 14:13:22,929|\u001b[0m\n",
      "`session_to_analyze`: /Users/scaglionea/Desktop/EEG data/RAT06/RAT06_2016-09-06__Ketamine_Singlel_20_10_10_iv\n"
     ]
    }
   ],
   "source": [
    "# finding the data path\n",
    "folder_list = io.find_sessions()\n",
    "# setting the folder to analyze\n",
    "session_to_analyze = folder_list[17]\n",
    "print('`session_to_analyze`: {}'.format(session_to_analyze))"
   ]
  },
  {
   "cell_type": "code",
   "execution_count": 4,
   "metadata": {
    "collapsed": false
   },
   "outputs": [
    {
     "data": {
      "text/plain": [
       "[(0,\n",
       "  '/Users/scaglionea/Desktop/EEG data/RAT01/CARBENOXOLONE_Single_5.6_10_IP'),\n",
       " (1,\n",
       "  '/Users/scaglionea/Desktop/EEG data/RAT01/RAT01_2016-05-13_15-02-20_MPH_10'),\n",
       " (2,\n",
       "  '/Users/scaglionea/Desktop/EEG data/RAT01/RAT01_2016-06-03_15-03-07_MPH_cumul.32-5.6'),\n",
       " (3,\n",
       "  '/Users/scaglionea/Desktop/EEG data/RAT01/RAT01_2016-06-09_15-23-22_MPH_Cumul_0.032-1.00_0.5_10_10_iv'),\n",
       " (4,\n",
       "  '/Users/scaglionea/Desktop/EEG data/RAT01/RAT01_2016-06-09_16-34-40_MPH_Cumul_0.032_3.2_0.5_10_10_iv'),\n",
       " (5,\n",
       "  '/Users/scaglionea/Desktop/EEG data/RAT01/RAT01_2016-06-09_16-35-39_MPH_Cumul_0.032-1.00_0.5_10_10_iv'),\n",
       " (6,\n",
       "  '/Users/scaglionea/Desktop/EEG data/RAT01/RAT01_2016-06-09_16-48-48_MPH_Cumul_0.032-1.00_0.5_10_10_iv'),\n",
       " (7,\n",
       "  '/Users/scaglionea/Desktop/EEG data/RAT01/RAT01_2016-06-09_16-48-48_MPH_Cumul_0.032-1.00_0.5_10_10_iv/RAT01_2016-06-09_16-44-14_MPH_Cumul_0.032-1.00_0.5_10_10_iv'),\n",
       " (8,\n",
       "  '/Users/scaglionea/Desktop/EEG data/RAT02/RAT02_2016-7-22_MODVEH_Cumul__30_30_iv'),\n",
       " (9,\n",
       "  '/Users/scaglionea/Desktop/EEG data/RAT02/RAT02_2016-7-29_MOD_Cumul_1-56_0.5_30_30_iv'),\n",
       " (10,\n",
       "  '/Users/scaglionea/Desktop/EEG data/RAT02/RAT02_2016-8-08_Methylphenidate_Cumul_0.032_0.5_10_10_iv'),\n",
       " (11,\n",
       "  '/Users/scaglionea/Desktop/EEG data/RAT02/RAT02_2016-8-15_MODAFINIL_Cumul_1-32_0.5_30_30_iv - Copy'),\n",
       " (12,\n",
       "  '/Users/scaglionea/Desktop/EEG data/RAT03/RAT03_2016-07-07__MPH_Cumul_0.032-1.00_0.5_10_10_iv'),\n",
       " (13,\n",
       "  '/Users/scaglionea/Desktop/EEG data/RAT03/RAT03_2016-7-15_MOD_Cumul_1-56_0.5_30_30_iv'),\n",
       " (14,\n",
       "  '/Users/scaglionea/Desktop/EEG data/RAT03/RAT03_2016-7-21_MODVEH_Cumul__30_30_iv'),\n",
       " (15,\n",
       "  '/Users/scaglionea/Desktop/EEG data/RAT03/RAT03_2016-7-28_Morphine_Cumul__0.01-1_0.5_30_30_iv'),\n",
       " (16,\n",
       "  '/Users/scaglionea/Desktop/EEG data/RAT04/RAT04_2016-8-19_wave form test'),\n",
       " (17,\n",
       "  '/Users/scaglionea/Desktop/EEG data/RAT06/RAT06_2016-09-06__Ketamine_Singlel_20_10_10_iv')]"
      ]
     },
     "execution_count": 4,
     "metadata": {},
     "output_type": "execute_result"
    }
   ],
   "source": [
    "zip(range(len(folder_list)),folder_list)"
   ]
  },
  {
   "cell_type": "code",
   "execution_count": 6,
   "metadata": {
    "collapsed": false
   },
   "outputs": [
    {
     "name": "stdout",
     "output_type": "stream",
     "text": [
      "\u001b[34mFound 1 sessions                                                                 |INFO: 2016-09-08 14:13:41,593|\u001b[0m\n",
      "\u001b[34mProcessing Session:RAT06_2016-09-06__Ketamine_Singlel_20_10_10_iv                |INFO: 2016-09-08 14:13:41,595|\u001b[0m\n",
      "\u001b[34mFound session txt file                                                           |INFO: 2016-09-08 14:13:41,612|\u001b[0m\n",
      "\u001b[34mImporting intan files                                                            |INFO: 2016-09-08 14:13:41,624|\u001b[0m\n",
      "\u001b[1mExtracting only [1, 3, 5, 7, 24, 26, 28, 30] chip_channels\u001b[33m-WARNING:io_veda:line 292-import_session_intan()\u001b[0m\n"
     ]
    }
   ],
   "source": [
    "session_to_analyze = folder_list[17]\n",
    "data = io.import_session(session_to_analyze)"
   ]
  },
  {
   "cell_type": "code",
   "execution_count": 7,
   "metadata": {
    "collapsed": false
   },
   "outputs": [
    {
     "data": {
      "text/plain": [
       "[{'bank': u'B',\n",
       "  'board_stream': 0,\n",
       "  'chip_channel': 1,\n",
       "  'custom_channel_name': u'B-001',\n",
       "  'custom_order': 1,\n",
       "  'electrode_impedance_magnitude': 0.0,\n",
       "  'electrode_impedance_phase': 0.0,\n",
       "  'high_cut_off_frequency': 500.0,\n",
       "  'high_cut_off_order': None,\n",
       "  'high_cut_off_type': None,\n",
       "  'low_cut_off_frequency': 0.800000011920929,\n",
       "  'low_cut_off_order': None,\n",
       "  'low_cut_off_type': None,\n",
       "  'name': u'B-001',\n",
       "  'native_channel_name': u'B-001',\n",
       "  'native_order': 1,\n",
       "  'notch_filter_frequency': 0,\n",
       "  'pin': ['chip_channel'],\n",
       "  'port_name': u'Port B',\n",
       "  'port_number': 1,\n",
       "  'port_prefix': u'B',\n",
       "  'sampling_freq': 2000.0,\n",
       "  'sig_units': 'uV'},\n",
       " {'bank': u'B',\n",
       "  'board_stream': 0,\n",
       "  'chip_channel': 3,\n",
       "  'custom_channel_name': u'B-003',\n",
       "  'custom_order': 3,\n",
       "  'electrode_impedance_magnitude': 0.0,\n",
       "  'electrode_impedance_phase': 0.0,\n",
       "  'high_cut_off_frequency': 500.0,\n",
       "  'high_cut_off_order': None,\n",
       "  'high_cut_off_type': None,\n",
       "  'low_cut_off_frequency': 0.800000011920929,\n",
       "  'low_cut_off_order': None,\n",
       "  'low_cut_off_type': None,\n",
       "  'name': u'B-003',\n",
       "  'native_channel_name': u'B-003',\n",
       "  'native_order': 3,\n",
       "  'notch_filter_frequency': 0,\n",
       "  'pin': ['chip_channel'],\n",
       "  'port_name': u'Port B',\n",
       "  'port_number': 1,\n",
       "  'port_prefix': u'B',\n",
       "  'sampling_freq': 2000.0,\n",
       "  'sig_units': 'uV'},\n",
       " {'bank': u'B',\n",
       "  'board_stream': 0,\n",
       "  'chip_channel': 5,\n",
       "  'custom_channel_name': u'B-005',\n",
       "  'custom_order': 5,\n",
       "  'electrode_impedance_magnitude': 0.0,\n",
       "  'electrode_impedance_phase': 0.0,\n",
       "  'high_cut_off_frequency': 500.0,\n",
       "  'high_cut_off_order': None,\n",
       "  'high_cut_off_type': None,\n",
       "  'low_cut_off_frequency': 0.800000011920929,\n",
       "  'low_cut_off_order': None,\n",
       "  'low_cut_off_type': None,\n",
       "  'name': u'B-005',\n",
       "  'native_channel_name': u'B-005',\n",
       "  'native_order': 5,\n",
       "  'notch_filter_frequency': 0,\n",
       "  'pin': ['chip_channel'],\n",
       "  'port_name': u'Port B',\n",
       "  'port_number': 1,\n",
       "  'port_prefix': u'B',\n",
       "  'sampling_freq': 2000.0,\n",
       "  'sig_units': 'uV'},\n",
       " {'bank': u'B',\n",
       "  'board_stream': 0,\n",
       "  'chip_channel': 7,\n",
       "  'custom_channel_name': u'B-007',\n",
       "  'custom_order': 7,\n",
       "  'electrode_impedance_magnitude': 0.0,\n",
       "  'electrode_impedance_phase': 0.0,\n",
       "  'high_cut_off_frequency': 500.0,\n",
       "  'high_cut_off_order': None,\n",
       "  'high_cut_off_type': None,\n",
       "  'low_cut_off_frequency': 0.800000011920929,\n",
       "  'low_cut_off_order': None,\n",
       "  'low_cut_off_type': None,\n",
       "  'name': u'B-007',\n",
       "  'native_channel_name': u'B-007',\n",
       "  'native_order': 7,\n",
       "  'notch_filter_frequency': 0,\n",
       "  'pin': ['chip_channel'],\n",
       "  'port_name': u'Port B',\n",
       "  'port_number': 1,\n",
       "  'port_prefix': u'B',\n",
       "  'sampling_freq': 2000.0,\n",
       "  'sig_units': 'uV'},\n",
       " {'bank': u'B',\n",
       "  'board_stream': 0,\n",
       "  'chip_channel': 24,\n",
       "  'custom_channel_name': u'B-024',\n",
       "  'custom_order': 24,\n",
       "  'electrode_impedance_magnitude': 0.0,\n",
       "  'electrode_impedance_phase': 0.0,\n",
       "  'high_cut_off_frequency': 500.0,\n",
       "  'high_cut_off_order': None,\n",
       "  'high_cut_off_type': None,\n",
       "  'low_cut_off_frequency': 0.800000011920929,\n",
       "  'low_cut_off_order': None,\n",
       "  'low_cut_off_type': None,\n",
       "  'name': u'B-024',\n",
       "  'native_channel_name': u'B-024',\n",
       "  'native_order': 24,\n",
       "  'notch_filter_frequency': 0,\n",
       "  'pin': ['chip_channel'],\n",
       "  'port_name': u'Port B',\n",
       "  'port_number': 1,\n",
       "  'port_prefix': u'B',\n",
       "  'sampling_freq': 2000.0,\n",
       "  'sig_units': 'uV'},\n",
       " {'bank': u'B',\n",
       "  'board_stream': 0,\n",
       "  'chip_channel': 26,\n",
       "  'custom_channel_name': u'B-026',\n",
       "  'custom_order': 26,\n",
       "  'electrode_impedance_magnitude': 0.0,\n",
       "  'electrode_impedance_phase': 0.0,\n",
       "  'high_cut_off_frequency': 500.0,\n",
       "  'high_cut_off_order': None,\n",
       "  'high_cut_off_type': None,\n",
       "  'low_cut_off_frequency': 0.800000011920929,\n",
       "  'low_cut_off_order': None,\n",
       "  'low_cut_off_type': None,\n",
       "  'name': u'B-026',\n",
       "  'native_channel_name': u'B-026',\n",
       "  'native_order': 26,\n",
       "  'notch_filter_frequency': 0,\n",
       "  'pin': ['chip_channel'],\n",
       "  'port_name': u'Port B',\n",
       "  'port_number': 1,\n",
       "  'port_prefix': u'B',\n",
       "  'sampling_freq': 2000.0,\n",
       "  'sig_units': 'uV'},\n",
       " {'bank': u'B',\n",
       "  'board_stream': 0,\n",
       "  'chip_channel': 28,\n",
       "  'custom_channel_name': u'B-028',\n",
       "  'custom_order': 28,\n",
       "  'electrode_impedance_magnitude': 0.0,\n",
       "  'electrode_impedance_phase': 0.0,\n",
       "  'high_cut_off_frequency': 500.0,\n",
       "  'high_cut_off_order': None,\n",
       "  'high_cut_off_type': None,\n",
       "  'low_cut_off_frequency': 0.800000011920929,\n",
       "  'low_cut_off_order': None,\n",
       "  'low_cut_off_type': None,\n",
       "  'name': u'B-028',\n",
       "  'native_channel_name': u'B-028',\n",
       "  'native_order': 28,\n",
       "  'notch_filter_frequency': 0,\n",
       "  'pin': ['chip_channel'],\n",
       "  'port_name': u'Port B',\n",
       "  'port_number': 1,\n",
       "  'port_prefix': u'B',\n",
       "  'sampling_freq': 2000.0,\n",
       "  'sig_units': 'uV'},\n",
       " {'bank': u'B',\n",
       "  'board_stream': 0,\n",
       "  'chip_channel': 30,\n",
       "  'custom_channel_name': u'B-030',\n",
       "  'custom_order': 30,\n",
       "  'electrode_impedance_magnitude': 0.0,\n",
       "  'electrode_impedance_phase': 0.0,\n",
       "  'high_cut_off_frequency': 500.0,\n",
       "  'high_cut_off_order': None,\n",
       "  'high_cut_off_type': None,\n",
       "  'low_cut_off_frequency': 0.800000011920929,\n",
       "  'low_cut_off_order': None,\n",
       "  'low_cut_off_type': None,\n",
       "  'name': u'B-030',\n",
       "  'native_channel_name': u'B-030',\n",
       "  'native_order': 30,\n",
       "  'notch_filter_frequency': 0,\n",
       "  'pin': ['chip_channel'],\n",
       "  'port_name': u'Port B',\n",
       "  'port_number': 1,\n",
       "  'port_prefix': u'B',\n",
       "  'sampling_freq': 2000.0,\n",
       "  'sig_units': 'uV'}]"
      ]
     },
     "execution_count": 7,
     "metadata": {},
     "output_type": "execute_result"
    }
   ],
   "source": [
    "data['voltage_header']"
   ]
  },
  {
   "cell_type": "code",
   "execution_count": 8,
   "metadata": {
    "collapsed": false
   },
   "outputs": [
    {
     "data": {
      "text/plain": [
       "[<matplotlib.lines.Line2D at 0x118c76650>,\n",
       " <matplotlib.lines.Line2D at 0x118c76850>,\n",
       " <matplotlib.lines.Line2D at 0x118c76990>,\n",
       " <matplotlib.lines.Line2D at 0x118c76ad0>,\n",
       " <matplotlib.lines.Line2D at 0x118c76c10>,\n",
       " <matplotlib.lines.Line2D at 0x118c76d50>,\n",
       " <matplotlib.lines.Line2D at 0x118c76e90>,\n",
       " <matplotlib.lines.Line2D at 0x118c76fd0>]"
      ]
     },
     "execution_count": 8,
     "metadata": {},
     "output_type": "execute_result"
    }
   ],
   "source": [
    "plot(data['voltage_series'][:,10000:10000+10000].T)"
   ]
  },
  {
   "cell_type": "code",
   "execution_count": 227,
   "metadata": {
    "collapsed": false
   },
   "outputs": [],
   "source": [
    "#this is to import a previously imported session\n",
    "#imported_data_file_location = str(QtGui.QFileDialog.getOpenFileName(caption='Select gz dill file'))\n",
    "#data = io.load_session(imported_data_file_location)"
   ]
  },
  {
   "cell_type": "markdown",
   "metadata": {},
   "source": [
    "# Data plotting\n",
    "## First cell is creating the figure\n",
    "\n",
    "## second is saving the cell"
   ]
  },
  {
   "cell_type": "code",
   "execution_count": 11,
   "metadata": {
    "collapsed": false
   },
   "outputs": [],
   "source": [
    "data['meta_data']['d0'] = 1\n",
    "data['meta_data']['d1'] = 32\n",
    "data['meta_data']['doseinterval'] = 0.5\n",
    "data['meta_data']['baseline'] = 10\n",
    "data['meta_data']['timeinterval'] = 10\n"
   ]
  },
  {
   "cell_type": "code",
   "execution_count": 12,
   "metadata": {
    "collapsed": false
   },
   "outputs": [
    {
     "data": {
      "text/plain": [
       "{'baseline': 10,\n",
       " 'd0': 1,\n",
       " 'd1': 32,\n",
       " 'date': '2016-09-06',\n",
       " 'doseinterval': 0.5,\n",
       " 'drug': 'Ketamine',\n",
       " 'experiment': 'Single',\n",
       " 'original_data_format': 'INTAN',\n",
       " 'route': 'iv',\n",
       " 'session_name': 'RAT03_2016-09-06_Ketamine_Single_20_10_10_iv',\n",
       " 'session_path': '/Users/scaglionea/Desktop/EEG data/RAT06/RAT06_2016-09-06__Ketamine_Singlel_20_10_10_iv',\n",
       " 'subject': 'RAT03',\n",
       " 'timeinterval': 10}"
      ]
     },
     "execution_count": 12,
     "metadata": {},
     "output_type": "execute_result"
    }
   ],
   "source": [
    "data['meta_data']"
   ]
  },
  {
   "cell_type": "code",
   "execution_count": 25,
   "metadata": {
    "collapsed": false
   },
   "outputs": [],
   "source": [
    "#plotting spectrogram\n",
    "fig = pl.plot_spectrogram(data, chan_id=-2)\n"
   ]
  },
  {
   "cell_type": "code",
   "execution_count": 28,
   "metadata": {
    "collapsed": true
   },
   "outputs": [],
   "source": [
    "# save figure\n",
    "# uncomment next lines to save with a given filename\n",
    "# file_location = str(QtGui.QFileDialog.getSaveFileName(caption='Save file to'))\n",
    "# fig.savefig(file_location + '.pdf')\n",
    "\n",
    "#save in the current directory: use `pwd`\n",
    "fig.savefig('test.pdf')"
   ]
  },
  {
   "cell_type": "markdown",
   "metadata": {},
   "source": [
    "# Now saves the data in a pandas dataframe"
   ]
  },
  {
   "cell_type": "code",
   "execution_count": 30,
   "metadata": {
    "collapsed": false
   },
   "outputs": [],
   "source": [
    "#this is a list\n",
    "df_psd, df_acc = sp.spectra_analysis_df(data, window=300)\n"
   ]
  },
  {
   "cell_type": "code",
   "execution_count": 35,
   "metadata": {
    "collapsed": true
   },
   "outputs": [
    {
     "data": {
      "text/plain": [
       "[{'board_stream': 0,\n",
       "  'chip_channel': 0,\n",
       "  'custom_channel_name': u'B-AUX1',\n",
       "  'custom_order': 32,\n",
       "  'electrode_impedance_magnitude': 0.0,\n",
       "  'electrode_impedance_phase': 0.0,\n",
       "  'native_channel_name': u'B-AUX1',\n",
       "  'native_order': 32,\n",
       "  'port_name': u'Port B',\n",
       "  'port_number': 1,\n",
       "  'port_prefix': u'B',\n",
       "  'sampling_freq': 500.0,\n",
       "  'sig_units': 'V'},\n",
       " {'board_stream': 0,\n",
       "  'chip_channel': 1,\n",
       "  'custom_channel_name': u'B-AUX2',\n",
       "  'custom_order': 33,\n",
       "  'electrode_impedance_magnitude': 0.0,\n",
       "  'electrode_impedance_phase': 0.0,\n",
       "  'native_channel_name': u'B-AUX2',\n",
       "  'native_order': 33,\n",
       "  'port_name': u'Port B',\n",
       "  'port_number': 1,\n",
       "  'port_prefix': u'B',\n",
       "  'sampling_freq': 500.0,\n",
       "  'sig_units': 'V'},\n",
       " {'board_stream': 0,\n",
       "  'chip_channel': 2,\n",
       "  'custom_channel_name': u'B-AUX3',\n",
       "  'custom_order': 34,\n",
       "  'electrode_impedance_magnitude': 0.0,\n",
       "  'electrode_impedance_phase': 0.0,\n",
       "  'native_channel_name': u'B-AUX3',\n",
       "  'native_order': 34,\n",
       "  'port_name': u'Port B',\n",
       "  'port_number': 1,\n",
       "  'port_prefix': u'B',\n",
       "  'sampling_freq': 500.0,\n",
       "  'sig_units': 'V'}]"
      ]
     },
     "execution_count": 35,
     "metadata": {},
     "output_type": "execute_result"
    }
   ],
   "source": [
    "data['aux_header']"
   ]
  },
  {
   "cell_type": "code",
   "execution_count": 48,
   "metadata": {
    "collapsed": false
   },
   "outputs": [
    {
     "data": {
      "text/plain": [
       "[<matplotlib.lines.Line2D at 0x146e419d0>,\n",
       " <matplotlib.lines.Line2D at 0x146e41bd0>,\n",
       " <matplotlib.lines.Line2D at 0x146e41d10>]"
      ]
     },
     "execution_count": 48,
     "metadata": {},
     "output_type": "execute_result"
    }
   ],
   "source": [
    "plot(np.diff(data['aux_series'].T,0))"
   ]
  },
  {
   "cell_type": "code",
   "execution_count": 45,
   "metadata": {
    "collapsed": false
   },
   "outputs": [
    {
     "data": {
      "text/plain": [
       "array([  1.81760260e+00,   3.38933760e+00,   5.54993560e+00, ...,\n",
       "         9.00936271e+06,   9.00936419e+06,   9.00936614e+06])"
      ]
     },
     "execution_count": 45,
     "metadata": {},
     "output_type": "execute_result"
    }
   ],
   "source": [
    "df_acc['acc_modulus'].plot()"
   ]
  },
  {
   "cell_type": "code",
   "execution_count": 8,
   "metadata": {
    "collapsed": false
   },
   "outputs": [],
   "source": [
    "df_psd['Frequency_red'] = ((df_psd.reset_index().Frequency.values*2).round(0)/2.)\n",
    "df_psd_red = df_psd.reset_index().set_index(['Channel','Frequency_red','Time'])\n",
    "df_to_save = df_psd_red.groupby(level=['Channel','Time','Frequency_red']).mean()"
   ]
  },
  {
   "cell_type": "code",
   "execution_count": 9,
   "metadata": {
    "collapsed": true
   },
   "outputs": [],
   "source": [
    "#save results, make sure session_to_analyze is defined\n",
    "# uncomment next lines to save with a given filename\n",
    "file_location = str(QtGui.QFileDialog.getSaveFileName(caption='Save file to'))\n",
    "df_to_save.to_csv(file_location)\n",
    "\n",
    "# file_location = os.path.join(session_to_analyze,'PSD.csv')\n",
    "# df_to_save.to_csv(file_location)"
   ]
  },
  {
   "cell_type": "code",
   "execution_count": 49,
   "metadata": {
    "collapsed": true
   },
   "outputs": [
    {
     "data": {
      "text/html": [
       "<div>\n",
       "<table border=\"1\" class=\"dataframe\">\n",
       "  <thead>\n",
       "    <tr style=\"text-align: right;\">\n",
       "      <th></th>\n",
       "      <th>acc_modulus</th>\n",
       "      <th>timeinterval</th>\n",
       "      <th>baseline</th>\n",
       "      <th>route</th>\n",
       "      <th>drug</th>\n",
       "      <th>doseinterval</th>\n",
       "      <th>original_data_format</th>\n",
       "      <th>experiment</th>\n",
       "      <th>date</th>\n",
       "      <th>session_name</th>\n",
       "      <th>d1</th>\n",
       "      <th>session_path</th>\n",
       "      <th>d0</th>\n",
       "      <th>subject</th>\n",
       "    </tr>\n",
       "    <tr>\n",
       "      <th>Time</th>\n",
       "      <th></th>\n",
       "      <th></th>\n",
       "      <th></th>\n",
       "      <th></th>\n",
       "      <th></th>\n",
       "      <th></th>\n",
       "      <th></th>\n",
       "      <th></th>\n",
       "      <th></th>\n",
       "      <th></th>\n",
       "      <th></th>\n",
       "      <th></th>\n",
       "      <th></th>\n",
       "      <th></th>\n",
       "    </tr>\n",
       "  </thead>\n",
       "  <tbody>\n",
       "    <tr>\n",
       "      <th>150.0</th>\n",
       "      <td>2.882072</td>\n",
       "      <td>10.0</td>\n",
       "      <td>10.0</td>\n",
       "      <td>iv</td>\n",
       "      <td>Ketamine</td>\n",
       "      <td>0.5</td>\n",
       "      <td>INTAN</td>\n",
       "      <td>Single</td>\n",
       "      <td>2016-09-06</td>\n",
       "      <td>RAT03_2016-09-06_Ketamine_Single_20_10_10_iv</td>\n",
       "      <td>32</td>\n",
       "      <td>/Users/scaglionea/Desktop/EEG data/RAT06/RAT06...</td>\n",
       "      <td>1</td>\n",
       "      <td>RAT03</td>\n",
       "    </tr>\n",
       "    <tr>\n",
       "      <th>449.5</th>\n",
       "      <td>2.889814</td>\n",
       "      <td>10.0</td>\n",
       "      <td>10.0</td>\n",
       "      <td>iv</td>\n",
       "      <td>Ketamine</td>\n",
       "      <td>0.5</td>\n",
       "      <td>INTAN</td>\n",
       "      <td>Single</td>\n",
       "      <td>2016-09-06</td>\n",
       "      <td>RAT03_2016-09-06_Ketamine_Single_20_10_10_iv</td>\n",
       "      <td>32</td>\n",
       "      <td>/Users/scaglionea/Desktop/EEG data/RAT06/RAT06...</td>\n",
       "      <td>1</td>\n",
       "      <td>RAT03</td>\n",
       "    </tr>\n",
       "    <tr>\n",
       "      <th>749.0</th>\n",
       "      <td>2.902155</td>\n",
       "      <td>10.0</td>\n",
       "      <td>10.0</td>\n",
       "      <td>iv</td>\n",
       "      <td>Ketamine</td>\n",
       "      <td>0.5</td>\n",
       "      <td>INTAN</td>\n",
       "      <td>Single</td>\n",
       "      <td>2016-09-06</td>\n",
       "      <td>RAT03_2016-09-06_Ketamine_Single_20_10_10_iv</td>\n",
       "      <td>32</td>\n",
       "      <td>/Users/scaglionea/Desktop/EEG data/RAT06/RAT06...</td>\n",
       "      <td>1</td>\n",
       "      <td>RAT03</td>\n",
       "    </tr>\n",
       "    <tr>\n",
       "      <th>1048.5</th>\n",
       "      <td>2.908978</td>\n",
       "      <td>10.0</td>\n",
       "      <td>10.0</td>\n",
       "      <td>iv</td>\n",
       "      <td>Ketamine</td>\n",
       "      <td>0.5</td>\n",
       "      <td>INTAN</td>\n",
       "      <td>Single</td>\n",
       "      <td>2016-09-06</td>\n",
       "      <td>RAT03_2016-09-06_Ketamine_Single_20_10_10_iv</td>\n",
       "      <td>32</td>\n",
       "      <td>/Users/scaglionea/Desktop/EEG data/RAT06/RAT06...</td>\n",
       "      <td>1</td>\n",
       "      <td>RAT03</td>\n",
       "    </tr>\n",
       "    <tr>\n",
       "      <th>1348.0</th>\n",
       "      <td>2.866956</td>\n",
       "      <td>10.0</td>\n",
       "      <td>10.0</td>\n",
       "      <td>iv</td>\n",
       "      <td>Ketamine</td>\n",
       "      <td>0.5</td>\n",
       "      <td>INTAN</td>\n",
       "      <td>Single</td>\n",
       "      <td>2016-09-06</td>\n",
       "      <td>RAT03_2016-09-06_Ketamine_Single_20_10_10_iv</td>\n",
       "      <td>32</td>\n",
       "      <td>/Users/scaglionea/Desktop/EEG data/RAT06/RAT06...</td>\n",
       "      <td>1</td>\n",
       "      <td>RAT03</td>\n",
       "    </tr>\n",
       "    <tr>\n",
       "      <th>1647.5</th>\n",
       "      <td>2.858567</td>\n",
       "      <td>10.0</td>\n",
       "      <td>10.0</td>\n",
       "      <td>iv</td>\n",
       "      <td>Ketamine</td>\n",
       "      <td>0.5</td>\n",
       "      <td>INTAN</td>\n",
       "      <td>Single</td>\n",
       "      <td>2016-09-06</td>\n",
       "      <td>RAT03_2016-09-06_Ketamine_Single_20_10_10_iv</td>\n",
       "      <td>32</td>\n",
       "      <td>/Users/scaglionea/Desktop/EEG data/RAT06/RAT06...</td>\n",
       "      <td>1</td>\n",
       "      <td>RAT03</td>\n",
       "    </tr>\n",
       "    <tr>\n",
       "      <th>1947.0</th>\n",
       "      <td>2.888195</td>\n",
       "      <td>10.0</td>\n",
       "      <td>10.0</td>\n",
       "      <td>iv</td>\n",
       "      <td>Ketamine</td>\n",
       "      <td>0.5</td>\n",
       "      <td>INTAN</td>\n",
       "      <td>Single</td>\n",
       "      <td>2016-09-06</td>\n",
       "      <td>RAT03_2016-09-06_Ketamine_Single_20_10_10_iv</td>\n",
       "      <td>32</td>\n",
       "      <td>/Users/scaglionea/Desktop/EEG data/RAT06/RAT06...</td>\n",
       "      <td>1</td>\n",
       "      <td>RAT03</td>\n",
       "    </tr>\n",
       "    <tr>\n",
       "      <th>2246.5</th>\n",
       "      <td>2.915569</td>\n",
       "      <td>10.0</td>\n",
       "      <td>10.0</td>\n",
       "      <td>iv</td>\n",
       "      <td>Ketamine</td>\n",
       "      <td>0.5</td>\n",
       "      <td>INTAN</td>\n",
       "      <td>Single</td>\n",
       "      <td>2016-09-06</td>\n",
       "      <td>RAT03_2016-09-06_Ketamine_Single_20_10_10_iv</td>\n",
       "      <td>32</td>\n",
       "      <td>/Users/scaglionea/Desktop/EEG data/RAT06/RAT06...</td>\n",
       "      <td>1</td>\n",
       "      <td>RAT03</td>\n",
       "    </tr>\n",
       "    <tr>\n",
       "      <th>2546.0</th>\n",
       "      <td>2.906985</td>\n",
       "      <td>10.0</td>\n",
       "      <td>10.0</td>\n",
       "      <td>iv</td>\n",
       "      <td>Ketamine</td>\n",
       "      <td>0.5</td>\n",
       "      <td>INTAN</td>\n",
       "      <td>Single</td>\n",
       "      <td>2016-09-06</td>\n",
       "      <td>RAT03_2016-09-06_Ketamine_Single_20_10_10_iv</td>\n",
       "      <td>32</td>\n",
       "      <td>/Users/scaglionea/Desktop/EEG data/RAT06/RAT06...</td>\n",
       "      <td>1</td>\n",
       "      <td>RAT03</td>\n",
       "    </tr>\n",
       "    <tr>\n",
       "      <th>2845.5</th>\n",
       "      <td>2.906160</td>\n",
       "      <td>10.0</td>\n",
       "      <td>10.0</td>\n",
       "      <td>iv</td>\n",
       "      <td>Ketamine</td>\n",
       "      <td>0.5</td>\n",
       "      <td>INTAN</td>\n",
       "      <td>Single</td>\n",
       "      <td>2016-09-06</td>\n",
       "      <td>RAT03_2016-09-06_Ketamine_Single_20_10_10_iv</td>\n",
       "      <td>32</td>\n",
       "      <td>/Users/scaglionea/Desktop/EEG data/RAT06/RAT06...</td>\n",
       "      <td>1</td>\n",
       "      <td>RAT03</td>\n",
       "    </tr>\n",
       "    <tr>\n",
       "      <th>3145.0</th>\n",
       "      <td>2.941284</td>\n",
       "      <td>10.0</td>\n",
       "      <td>10.0</td>\n",
       "      <td>iv</td>\n",
       "      <td>Ketamine</td>\n",
       "      <td>0.5</td>\n",
       "      <td>INTAN</td>\n",
       "      <td>Single</td>\n",
       "      <td>2016-09-06</td>\n",
       "      <td>RAT03_2016-09-06_Ketamine_Single_20_10_10_iv</td>\n",
       "      <td>32</td>\n",
       "      <td>/Users/scaglionea/Desktop/EEG data/RAT06/RAT06...</td>\n",
       "      <td>1</td>\n",
       "      <td>RAT03</td>\n",
       "    </tr>\n",
       "    <tr>\n",
       "      <th>3444.5</th>\n",
       "      <td>2.940795</td>\n",
       "      <td>10.0</td>\n",
       "      <td>10.0</td>\n",
       "      <td>iv</td>\n",
       "      <td>Ketamine</td>\n",
       "      <td>0.5</td>\n",
       "      <td>INTAN</td>\n",
       "      <td>Single</td>\n",
       "      <td>2016-09-06</td>\n",
       "      <td>RAT03_2016-09-06_Ketamine_Single_20_10_10_iv</td>\n",
       "      <td>32</td>\n",
       "      <td>/Users/scaglionea/Desktop/EEG data/RAT06/RAT06...</td>\n",
       "      <td>1</td>\n",
       "      <td>RAT03</td>\n",
       "    </tr>\n",
       "  </tbody>\n",
       "</table>\n",
       "</div>"
      ],
      "text/plain": [
       "        acc_modulus  timeinterval  baseline route      drug  doseinterval  \\\n",
       "Time                                                                        \n",
       "150.0      2.882072          10.0      10.0    iv  Ketamine           0.5   \n",
       "449.5      2.889814          10.0      10.0    iv  Ketamine           0.5   \n",
       "749.0      2.902155          10.0      10.0    iv  Ketamine           0.5   \n",
       "1048.5     2.908978          10.0      10.0    iv  Ketamine           0.5   \n",
       "1348.0     2.866956          10.0      10.0    iv  Ketamine           0.5   \n",
       "1647.5     2.858567          10.0      10.0    iv  Ketamine           0.5   \n",
       "1947.0     2.888195          10.0      10.0    iv  Ketamine           0.5   \n",
       "2246.5     2.915569          10.0      10.0    iv  Ketamine           0.5   \n",
       "2546.0     2.906985          10.0      10.0    iv  Ketamine           0.5   \n",
       "2845.5     2.906160          10.0      10.0    iv  Ketamine           0.5   \n",
       "3145.0     2.941284          10.0      10.0    iv  Ketamine           0.5   \n",
       "3444.5     2.940795          10.0      10.0    iv  Ketamine           0.5   \n",
       "\n",
       "       original_data_format experiment        date  \\\n",
       "Time                                                 \n",
       "150.0                 INTAN     Single  2016-09-06   \n",
       "449.5                 INTAN     Single  2016-09-06   \n",
       "749.0                 INTAN     Single  2016-09-06   \n",
       "1048.5                INTAN     Single  2016-09-06   \n",
       "1348.0                INTAN     Single  2016-09-06   \n",
       "1647.5                INTAN     Single  2016-09-06   \n",
       "1947.0                INTAN     Single  2016-09-06   \n",
       "2246.5                INTAN     Single  2016-09-06   \n",
       "2546.0                INTAN     Single  2016-09-06   \n",
       "2845.5                INTAN     Single  2016-09-06   \n",
       "3145.0                INTAN     Single  2016-09-06   \n",
       "3444.5                INTAN     Single  2016-09-06   \n",
       "\n",
       "                                        session_name  d1  \\\n",
       "Time                                                       \n",
       "150.0   RAT03_2016-09-06_Ketamine_Single_20_10_10_iv  32   \n",
       "449.5   RAT03_2016-09-06_Ketamine_Single_20_10_10_iv  32   \n",
       "749.0   RAT03_2016-09-06_Ketamine_Single_20_10_10_iv  32   \n",
       "1048.5  RAT03_2016-09-06_Ketamine_Single_20_10_10_iv  32   \n",
       "1348.0  RAT03_2016-09-06_Ketamine_Single_20_10_10_iv  32   \n",
       "1647.5  RAT03_2016-09-06_Ketamine_Single_20_10_10_iv  32   \n",
       "1947.0  RAT03_2016-09-06_Ketamine_Single_20_10_10_iv  32   \n",
       "2246.5  RAT03_2016-09-06_Ketamine_Single_20_10_10_iv  32   \n",
       "2546.0  RAT03_2016-09-06_Ketamine_Single_20_10_10_iv  32   \n",
       "2845.5  RAT03_2016-09-06_Ketamine_Single_20_10_10_iv  32   \n",
       "3145.0  RAT03_2016-09-06_Ketamine_Single_20_10_10_iv  32   \n",
       "3444.5  RAT03_2016-09-06_Ketamine_Single_20_10_10_iv  32   \n",
       "\n",
       "                                             session_path  d0 subject  \n",
       "Time                                                                   \n",
       "150.0   /Users/scaglionea/Desktop/EEG data/RAT06/RAT06...   1   RAT03  \n",
       "449.5   /Users/scaglionea/Desktop/EEG data/RAT06/RAT06...   1   RAT03  \n",
       "749.0   /Users/scaglionea/Desktop/EEG data/RAT06/RAT06...   1   RAT03  \n",
       "1048.5  /Users/scaglionea/Desktop/EEG data/RAT06/RAT06...   1   RAT03  \n",
       "1348.0  /Users/scaglionea/Desktop/EEG data/RAT06/RAT06...   1   RAT03  \n",
       "1647.5  /Users/scaglionea/Desktop/EEG data/RAT06/RAT06...   1   RAT03  \n",
       "1947.0  /Users/scaglionea/Desktop/EEG data/RAT06/RAT06...   1   RAT03  \n",
       "2246.5  /Users/scaglionea/Desktop/EEG data/RAT06/RAT06...   1   RAT03  \n",
       "2546.0  /Users/scaglionea/Desktop/EEG data/RAT06/RAT06...   1   RAT03  \n",
       "2845.5  /Users/scaglionea/Desktop/EEG data/RAT06/RAT06...   1   RAT03  \n",
       "3145.0  /Users/scaglionea/Desktop/EEG data/RAT06/RAT06...   1   RAT03  \n",
       "3444.5  /Users/scaglionea/Desktop/EEG data/RAT06/RAT06...   1   RAT03  "
      ]
     },
     "execution_count": 49,
     "metadata": {},
     "output_type": "execute_result"
    }
   ],
   "source": [
    "df_acc"
   ]
  },
  {
   "cell_type": "code",
   "execution_count": 84,
   "metadata": {
    "collapsed": false
   },
   "outputs": [
    {
     "data": {
      "text/plain": [
       "<matplotlib.axes._subplots.AxesSubplot at 0x1241f6d10>"
      ]
     },
     "execution_count": 84,
     "metadata": {},
     "output_type": "execute_result"
    }
   ],
   "source": [
    "ix = pd.IndexSlice\n",
    "df_psd.loc[ix['B-003',::100,:]]['PSD'].plot()"
   ]
  },
  {
   "cell_type": "code",
   "execution_count": null,
   "metadata": {
    "collapsed": true
   },
   "outputs": [],
   "source": []
  }
 ],
 "metadata": {
  "kernelspec": {
   "display_name": "Python 2",
   "language": "python",
   "name": "python2"
  },
  "language_info": {
   "codemirror_mode": {
    "name": "ipython",
    "version": 2
   },
   "file_extension": ".py",
   "mimetype": "text/x-python",
   "name": "python",
   "nbconvert_exporter": "python",
   "pygments_lexer": "ipython2",
   "version": "2.7.12"
  }
 },
 "nbformat": 4,
 "nbformat_minor": 1
}
